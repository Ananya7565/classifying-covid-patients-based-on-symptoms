{
  "nbformat": 4,
  "nbformat_minor": 0,
  "metadata": {
    "colab": {
      "name": "Covid_Symptoms.ipynb",
      "provenance": [],
      "collapsed_sections": [
        "fR8EOy4AxC9T"
      ]
    },
    "kernelspec": {
      "name": "python3",
      "display_name": "Python 3"
    },
    "language_info": {
      "name": "python"
    }
  },
  "cells": [
    {
      "cell_type": "markdown",
      "source": [
        "# **Loading The Data**"
      ],
      "metadata": {
        "id": "bR0f-muJ3iI7"
      }
    },
    {
      "cell_type": "code",
      "execution_count": 1,
      "metadata": {
        "id": "927MQuMgXcMJ"
      },
      "outputs": [],
      "source": [
        "import numpy as np \n",
        "import pandas as pd\n",
        "import matplotlib.pyplot as plt\n",
        "from sklearn.ensemble import RandomForestClassifier,AdaBoostClassifier,GradientBoostingClassifier\n",
        "from imblearn.under_sampling import RandomUnderSampler  "
      ]
    },
    {
      "cell_type": "markdown",
      "source": [
        "\n",
        "\n",
        "\n",
        "*   Numpy stands for \"numerical python\".It is a python library used for working with arrays. In python lists are used which are slow which is why Numpy provides an array object called \"ndarray\" which is faster than lists.Numpy arrays are stored in one continuous place in memory unlike lists and are hence faster.\n",
        "* The name pandas has reference to both \"panel data\" and \"python data analysis\".It is a python library used to work with datasets.It is used to clean messy datasets,analyse(eg:- find if there is a relation between two columns in the dataset,delete the useless or empty columns etc) and manipulate the data in the datasets.\n",
        "\n",
        "* matplotlib is a visualization library in python.Using this we can plot various 2D graphs for the Numpy array objects.\n",
        "* sklearn is a python library for machine learning. It provides various tools for machine learning and statistical modelling(eg:- regression,clustering,dimensionality reduction via a consistence interface in python)\n",
        "\n",
        "*   Random forests creates decision trees on randomly selected data samples, gets prediction from each tree and selects the best solution by means of voting. \n",
        "\n",
        "\n",
        "\n",
        "\n",
        "*   Ada boost consists of a forest of stumps(trees with only 2 children),ada boost combines the weak learners(stumps).Some stumps get more say than others.(in random forest classifier,each tree had the same say in classification.).Each stump is made by taking the previous stumps mistakes into consideration.(in random forest each stump is independent of the other.)\n",
        "*   Gradient boosting classifiers are a group of machine learning algorithms that combine many weak learning models together to create a strong predictive model.\n",
        "\n",
        "\n",
        "*   RandomUnderSampler is a fast and easy way to balance the data by randomly selecting a subset of data for the targeted classes.It allows you to sample heterogenous data(eg:- strings).\n",
        "\n",
        "\n",
        "\n",
        "\n",
        "\n",
        "\n",
        "\n",
        "\n",
        "\n"
      ],
      "metadata": {
        "id": "OSdBJo-8lcXz"
      }
    },
    {
      "cell_type": "code",
      "source": [
        "from google.colab import drive\n",
        "drive.mount('/content/drive')"
      ],
      "metadata": {
        "colab": {
          "base_uri": "https://localhost:8080/"
        },
        "id": "05ma5yXGXogw",
        "outputId": "b19712b4-53be-4057-ce29-943ec3733b50"
      },
      "execution_count": 2,
      "outputs": [
        {
          "output_type": "stream",
          "name": "stdout",
          "text": [
            "Drive already mounted at /content/drive; to attempt to forcibly remount, call drive.mount(\"/content/drive\", force_remount=True).\n"
          ]
        }
      ]
    },
    {
      "cell_type": "markdown",
      "source": [
        "Mount the drive\n"
      ],
      "metadata": {
        "id": "pfh6qMMRpBXr"
      }
    },
    {
      "cell_type": "code",
      "source": [
        "data = pd.read_csv(\"/content/drive/My Drive/corona_tested_individuals_ver_0083.english.csv\")"
      ],
      "metadata": {
        "id": "wo-VD2aajBMl"
      },
      "execution_count": 3,
      "outputs": []
    },
    {
      "cell_type": "markdown",
      "source": [
        "Load the data in the dataset in the drive\n",
        "This dataset is from data.gov (data.gov is a website that allows us to access real time datasets provided by the federal government.).The dataset used is from Israel. src:- https://data.gov.il/dataset/covid-19"
      ],
      "metadata": {
        "id": "lW58lO2Cpu_Y"
      }
    },
    {
      "cell_type": "markdown",
      "source": [
        "**DATA IN THE DATASET (True = 1 , False = 0)**\n",
        "\n",
        "\n",
        "*   Age(over 60)\n",
        "*   Gender (male=1,female=0)\n",
        "\n",
        "\n",
        "*   Cough\n",
        "*   Shortness of breath\n",
        "\n",
        "* Fever\n",
        "* Sore throat\n",
        "\n",
        "*   Head ache\n",
        "*   Test indication(whether they were in contact with a covid positive person or not)\n",
        "\n",
        "\n",
        "\n",
        "\n",
        "\n",
        "\n",
        "\n",
        "\n"
      ],
      "metadata": {
        "id": "UDnaNcI9wNpi"
      }
    },
    {
      "cell_type": "code",
      "source": [
        "data.head()"
      ],
      "metadata": {
        "colab": {
          "base_uri": "https://localhost:8080/",
          "height": 206
        },
        "id": "CrMzpdu5p2Xn",
        "outputId": "1d287735-0228-4bf4-ca23-ed764a192100"
      },
      "execution_count": 4,
      "outputs": [
        {
          "output_type": "execute_result",
          "data": {
            "text/plain": [
              "    test_date  cough  fever  sore_throat  shortness_of_breath  head_ache  \\\n",
              "0  2020-11-12      0      0            0                    0          0   \n",
              "1  2020-11-12      0      1            0                    0          0   \n",
              "2  2020-11-12      0      0            0                    0          0   \n",
              "3  2020-11-12      0      0            0                    0          0   \n",
              "4  2020-11-12      0      1            0                    0          0   \n",
              "\n",
              "  corona_result age_60_and_above  gender         test_indication  \n",
              "0      negative               No    male                   Other  \n",
              "1      negative               No    male                   Other  \n",
              "2      negative              Yes  female                   Other  \n",
              "3      negative               No    male                   Other  \n",
              "4      negative               No    male  Contact with confirmed  "
            ],
            "text/html": [
              "\n",
              "  <div id=\"df-5be230f1-21be-4c99-a708-c8e2c186fc2d\">\n",
              "    <div class=\"colab-df-container\">\n",
              "      <div>\n",
              "<style scoped>\n",
              "    .dataframe tbody tr th:only-of-type {\n",
              "        vertical-align: middle;\n",
              "    }\n",
              "\n",
              "    .dataframe tbody tr th {\n",
              "        vertical-align: top;\n",
              "    }\n",
              "\n",
              "    .dataframe thead th {\n",
              "        text-align: right;\n",
              "    }\n",
              "</style>\n",
              "<table border=\"1\" class=\"dataframe\">\n",
              "  <thead>\n",
              "    <tr style=\"text-align: right;\">\n",
              "      <th></th>\n",
              "      <th>test_date</th>\n",
              "      <th>cough</th>\n",
              "      <th>fever</th>\n",
              "      <th>sore_throat</th>\n",
              "      <th>shortness_of_breath</th>\n",
              "      <th>head_ache</th>\n",
              "      <th>corona_result</th>\n",
              "      <th>age_60_and_above</th>\n",
              "      <th>gender</th>\n",
              "      <th>test_indication</th>\n",
              "    </tr>\n",
              "  </thead>\n",
              "  <tbody>\n",
              "    <tr>\n",
              "      <th>0</th>\n",
              "      <td>2020-11-12</td>\n",
              "      <td>0</td>\n",
              "      <td>0</td>\n",
              "      <td>0</td>\n",
              "      <td>0</td>\n",
              "      <td>0</td>\n",
              "      <td>negative</td>\n",
              "      <td>No</td>\n",
              "      <td>male</td>\n",
              "      <td>Other</td>\n",
              "    </tr>\n",
              "    <tr>\n",
              "      <th>1</th>\n",
              "      <td>2020-11-12</td>\n",
              "      <td>0</td>\n",
              "      <td>1</td>\n",
              "      <td>0</td>\n",
              "      <td>0</td>\n",
              "      <td>0</td>\n",
              "      <td>negative</td>\n",
              "      <td>No</td>\n",
              "      <td>male</td>\n",
              "      <td>Other</td>\n",
              "    </tr>\n",
              "    <tr>\n",
              "      <th>2</th>\n",
              "      <td>2020-11-12</td>\n",
              "      <td>0</td>\n",
              "      <td>0</td>\n",
              "      <td>0</td>\n",
              "      <td>0</td>\n",
              "      <td>0</td>\n",
              "      <td>negative</td>\n",
              "      <td>Yes</td>\n",
              "      <td>female</td>\n",
              "      <td>Other</td>\n",
              "    </tr>\n",
              "    <tr>\n",
              "      <th>3</th>\n",
              "      <td>2020-11-12</td>\n",
              "      <td>0</td>\n",
              "      <td>0</td>\n",
              "      <td>0</td>\n",
              "      <td>0</td>\n",
              "      <td>0</td>\n",
              "      <td>negative</td>\n",
              "      <td>No</td>\n",
              "      <td>male</td>\n",
              "      <td>Other</td>\n",
              "    </tr>\n",
              "    <tr>\n",
              "      <th>4</th>\n",
              "      <td>2020-11-12</td>\n",
              "      <td>0</td>\n",
              "      <td>1</td>\n",
              "      <td>0</td>\n",
              "      <td>0</td>\n",
              "      <td>0</td>\n",
              "      <td>negative</td>\n",
              "      <td>No</td>\n",
              "      <td>male</td>\n",
              "      <td>Contact with confirmed</td>\n",
              "    </tr>\n",
              "  </tbody>\n",
              "</table>\n",
              "</div>\n",
              "      <button class=\"colab-df-convert\" onclick=\"convertToInteractive('df-5be230f1-21be-4c99-a708-c8e2c186fc2d')\"\n",
              "              title=\"Convert this dataframe to an interactive table.\"\n",
              "              style=\"display:none;\">\n",
              "        \n",
              "  <svg xmlns=\"http://www.w3.org/2000/svg\" height=\"24px\"viewBox=\"0 0 24 24\"\n",
              "       width=\"24px\">\n",
              "    <path d=\"M0 0h24v24H0V0z\" fill=\"none\"/>\n",
              "    <path d=\"M18.56 5.44l.94 2.06.94-2.06 2.06-.94-2.06-.94-.94-2.06-.94 2.06-2.06.94zm-11 1L8.5 8.5l.94-2.06 2.06-.94-2.06-.94L8.5 2.5l-.94 2.06-2.06.94zm10 10l.94 2.06.94-2.06 2.06-.94-2.06-.94-.94-2.06-.94 2.06-2.06.94z\"/><path d=\"M17.41 7.96l-1.37-1.37c-.4-.4-.92-.59-1.43-.59-.52 0-1.04.2-1.43.59L10.3 9.45l-7.72 7.72c-.78.78-.78 2.05 0 2.83L4 21.41c.39.39.9.59 1.41.59.51 0 1.02-.2 1.41-.59l7.78-7.78 2.81-2.81c.8-.78.8-2.07 0-2.86zM5.41 20L4 18.59l7.72-7.72 1.47 1.35L5.41 20z\"/>\n",
              "  </svg>\n",
              "      </button>\n",
              "      \n",
              "  <style>\n",
              "    .colab-df-container {\n",
              "      display:flex;\n",
              "      flex-wrap:wrap;\n",
              "      gap: 12px;\n",
              "    }\n",
              "\n",
              "    .colab-df-convert {\n",
              "      background-color: #E8F0FE;\n",
              "      border: none;\n",
              "      border-radius: 50%;\n",
              "      cursor: pointer;\n",
              "      display: none;\n",
              "      fill: #1967D2;\n",
              "      height: 32px;\n",
              "      padding: 0 0 0 0;\n",
              "      width: 32px;\n",
              "    }\n",
              "\n",
              "    .colab-df-convert:hover {\n",
              "      background-color: #E2EBFA;\n",
              "      box-shadow: 0px 1px 2px rgba(60, 64, 67, 0.3), 0px 1px 3px 1px rgba(60, 64, 67, 0.15);\n",
              "      fill: #174EA6;\n",
              "    }\n",
              "\n",
              "    [theme=dark] .colab-df-convert {\n",
              "      background-color: #3B4455;\n",
              "      fill: #D2E3FC;\n",
              "    }\n",
              "\n",
              "    [theme=dark] .colab-df-convert:hover {\n",
              "      background-color: #434B5C;\n",
              "      box-shadow: 0px 1px 3px 1px rgba(0, 0, 0, 0.15);\n",
              "      filter: drop-shadow(0px 1px 2px rgba(0, 0, 0, 0.3));\n",
              "      fill: #FFFFFF;\n",
              "    }\n",
              "  </style>\n",
              "\n",
              "      <script>\n",
              "        const buttonEl =\n",
              "          document.querySelector('#df-5be230f1-21be-4c99-a708-c8e2c186fc2d button.colab-df-convert');\n",
              "        buttonEl.style.display =\n",
              "          google.colab.kernel.accessAllowed ? 'block' : 'none';\n",
              "\n",
              "        async function convertToInteractive(key) {\n",
              "          const element = document.querySelector('#df-5be230f1-21be-4c99-a708-c8e2c186fc2d');\n",
              "          const dataTable =\n",
              "            await google.colab.kernel.invokeFunction('convertToInteractive',\n",
              "                                                     [key], {});\n",
              "          if (!dataTable) return;\n",
              "\n",
              "          const docLinkHtml = 'Like what you see? Visit the ' +\n",
              "            '<a target=\"_blank\" href=https://colab.research.google.com/notebooks/data_table.ipynb>data table notebook</a>'\n",
              "            + ' to learn more about interactive tables.';\n",
              "          element.innerHTML = '';\n",
              "          dataTable['output_type'] = 'display_data';\n",
              "          await google.colab.output.renderOutput(dataTable, element);\n",
              "          const docLink = document.createElement('div');\n",
              "          docLink.innerHTML = docLinkHtml;\n",
              "          element.appendChild(docLink);\n",
              "        }\n",
              "      </script>\n",
              "    </div>\n",
              "  </div>\n",
              "  "
            ]
          },
          "metadata": {},
          "execution_count": 4
        }
      ]
    },
    {
      "cell_type": "markdown",
      "source": [
        "data.head(N) returns the first N rows of the dataset,if no parameter is passed then by default it returns the first 5 rows of the dataset"
      ],
      "metadata": {
        "id": "gfGR9MZFyF5u"
      }
    },
    {
      "cell_type": "code",
      "source": [
        "data['test_indication'].value_counts()"
      ],
      "metadata": {
        "colab": {
          "base_uri": "https://localhost:8080/"
        },
        "id": "ZOetWjDJygf3",
        "outputId": "594ba63c-a2bb-4c11-b4a7-3e9fab460e27"
      },
      "execution_count": 5,
      "outputs": [
        {
          "output_type": "execute_result",
          "data": {
            "text/plain": [
              "Other                     153505\n",
              "Contact with confirmed      4934\n",
              "Abroad                       166\n",
              "Name: test_indication, dtype: int64"
            ]
          },
          "metadata": {},
          "execution_count": 5
        }
      ]
    },
    {
      "cell_type": "markdown",
      "source": [
        "value_counts is used to find the frequency of unique values"
      ],
      "metadata": {
        "id": "dro66YlyLSSV"
      }
    },
    {
      "cell_type": "code",
      "source": [
        "print(data.shape)\n",
        "data = data.dropna()\n",
        "print(data.shape)"
      ],
      "metadata": {
        "colab": {
          "base_uri": "https://localhost:8080/"
        },
        "id": "oRXvx0RVLZhR",
        "outputId": "d18c4877-7beb-4be2-a732-71e6c98326f7"
      },
      "execution_count": 6,
      "outputs": [
        {
          "output_type": "stream",
          "name": "stdout",
          "text": [
            "(158606, 10)\n",
            "(143502, 10)\n"
          ]
        }
      ]
    },
    {
      "cell_type": "markdown",
      "source": [
        "Use data.dropna() to remove the rows in the dataset which have null values.\n",
        "15,104 rows had null values."
      ],
      "metadata": {
        "id": "NnHQvYIZMeat"
      }
    },
    {
      "cell_type": "code",
      "source": [
        "def gender(x):   # x is each row                                               \n",
        "  row = dict(x)  # convert each row('x') to a dictionary('row')\n",
        "  gen = row['gender'].lower() #in the cell,'gender',of dict 'row',convert its entry to lowercase\n",
        "  if gen == 'male':\n",
        "    return 1\n",
        "  else:\n",
        "    return 0\n",
        "def corona_result(y):\n",
        "  row = dict(y)\n",
        "  cor = row['corona_result'].lower() \n",
        "  if cor == 'positive':     #if the corona test result is positive the entry in the column becomes 1\n",
        "    return 1\n",
        "  else:\n",
        "    return 0\n",
        "def age_above_60_check(z):\n",
        "  row = dict(z)\n",
        "  age = row['age_60_and_above'].lower()   #if the persons age is above 60 the entry in the column becomes 1\n",
        "  if age == 'yes':\n",
        "    return 1\n",
        "  else:\n",
        "    return 0\n",
        "def contact(p):\n",
        "  row = dict(p)\n",
        "  contact_person=row['test_indication'].lower()\n",
        "  if contact_person == 'contact with confirmed':     #if the person has contacted a covid positive person entry in the column becomes 1 else 0\n",
        "    return 1\n",
        "  else:\n",
        "    return 0\n",
        "data['gender'] = data.apply(lambda row_gen : gender(row_gen),axis = 1)  \n",
        "# data['gender'] -> creates a new column called 'gender'\n",
        "#data.apply -> It acts as the python map() function. It takes a function as input and applies it to the entire datafram. If you are working with tabular \n",
        "#              data then you must specify another parameter in data.apply called 'axis'.For columns the axis is 1 and for rows it is 0.\n",
        "#              syntax of data.apply()- data.apply(function , axis)\n",
        "data['corona_result'] = data.apply(lambda row_cor_result : corona_result(row_cor_result) , axis = 1)\n",
        "data['age_60_and_above'] = data.apply(lambda row_age : age_above_60_check(row_age) , axis=1)\n",
        "data['contact_with_confirmed'] = data.apply(lambda row_test : contact(row_test) , axis = 1)\n"
      ],
      "metadata": {
        "id": "hK989_0RROYT"
      },
      "execution_count": 7,
      "outputs": []
    },
    {
      "cell_type": "markdown",
      "source": [
        "Some columns in the dataset have string values, eg:- entries of column 'gender' are either 'male' or 'female', so convert all the columns with string values to int (either 0 or 1),for easy manipulation of the data."
      ],
      "metadata": {
        "id": "J592WYAzRxga"
      }
    },
    {
      "cell_type": "code",
      "source": [
        "data.head()"
      ],
      "metadata": {
        "colab": {
          "base_uri": "https://localhost:8080/",
          "height": 250
        },
        "id": "rxoc_iI0KR6_",
        "outputId": "dc11d637-4453-4e81-803d-a5b6d1c84c9b"
      },
      "execution_count": 8,
      "outputs": [
        {
          "output_type": "execute_result",
          "data": {
            "text/plain": [
              "    test_date  cough  fever  sore_throat  shortness_of_breath  head_ache  \\\n",
              "0  2020-11-12      0      0            0                    0          0   \n",
              "1  2020-11-12      0      1            0                    0          0   \n",
              "2  2020-11-12      0      0            0                    0          0   \n",
              "3  2020-11-12      0      0            0                    0          0   \n",
              "4  2020-11-12      0      1            0                    0          0   \n",
              "\n",
              "   corona_result  age_60_and_above  gender         test_indication  \\\n",
              "0              0                 0       1                   Other   \n",
              "1              0                 0       1                   Other   \n",
              "2              0                 1       0                   Other   \n",
              "3              0                 0       1                   Other   \n",
              "4              0                 0       1  Contact with confirmed   \n",
              "\n",
              "   contact_with_confirmed  \n",
              "0                       0  \n",
              "1                       0  \n",
              "2                       0  \n",
              "3                       0  \n",
              "4                       1  "
            ],
            "text/html": [
              "\n",
              "  <div id=\"df-8bb7cbac-eb5e-49e7-8079-d62d15987611\">\n",
              "    <div class=\"colab-df-container\">\n",
              "      <div>\n",
              "<style scoped>\n",
              "    .dataframe tbody tr th:only-of-type {\n",
              "        vertical-align: middle;\n",
              "    }\n",
              "\n",
              "    .dataframe tbody tr th {\n",
              "        vertical-align: top;\n",
              "    }\n",
              "\n",
              "    .dataframe thead th {\n",
              "        text-align: right;\n",
              "    }\n",
              "</style>\n",
              "<table border=\"1\" class=\"dataframe\">\n",
              "  <thead>\n",
              "    <tr style=\"text-align: right;\">\n",
              "      <th></th>\n",
              "      <th>test_date</th>\n",
              "      <th>cough</th>\n",
              "      <th>fever</th>\n",
              "      <th>sore_throat</th>\n",
              "      <th>shortness_of_breath</th>\n",
              "      <th>head_ache</th>\n",
              "      <th>corona_result</th>\n",
              "      <th>age_60_and_above</th>\n",
              "      <th>gender</th>\n",
              "      <th>test_indication</th>\n",
              "      <th>contact_with_confirmed</th>\n",
              "    </tr>\n",
              "  </thead>\n",
              "  <tbody>\n",
              "    <tr>\n",
              "      <th>0</th>\n",
              "      <td>2020-11-12</td>\n",
              "      <td>0</td>\n",
              "      <td>0</td>\n",
              "      <td>0</td>\n",
              "      <td>0</td>\n",
              "      <td>0</td>\n",
              "      <td>0</td>\n",
              "      <td>0</td>\n",
              "      <td>1</td>\n",
              "      <td>Other</td>\n",
              "      <td>0</td>\n",
              "    </tr>\n",
              "    <tr>\n",
              "      <th>1</th>\n",
              "      <td>2020-11-12</td>\n",
              "      <td>0</td>\n",
              "      <td>1</td>\n",
              "      <td>0</td>\n",
              "      <td>0</td>\n",
              "      <td>0</td>\n",
              "      <td>0</td>\n",
              "      <td>0</td>\n",
              "      <td>1</td>\n",
              "      <td>Other</td>\n",
              "      <td>0</td>\n",
              "    </tr>\n",
              "    <tr>\n",
              "      <th>2</th>\n",
              "      <td>2020-11-12</td>\n",
              "      <td>0</td>\n",
              "      <td>0</td>\n",
              "      <td>0</td>\n",
              "      <td>0</td>\n",
              "      <td>0</td>\n",
              "      <td>0</td>\n",
              "      <td>1</td>\n",
              "      <td>0</td>\n",
              "      <td>Other</td>\n",
              "      <td>0</td>\n",
              "    </tr>\n",
              "    <tr>\n",
              "      <th>3</th>\n",
              "      <td>2020-11-12</td>\n",
              "      <td>0</td>\n",
              "      <td>0</td>\n",
              "      <td>0</td>\n",
              "      <td>0</td>\n",
              "      <td>0</td>\n",
              "      <td>0</td>\n",
              "      <td>0</td>\n",
              "      <td>1</td>\n",
              "      <td>Other</td>\n",
              "      <td>0</td>\n",
              "    </tr>\n",
              "    <tr>\n",
              "      <th>4</th>\n",
              "      <td>2020-11-12</td>\n",
              "      <td>0</td>\n",
              "      <td>1</td>\n",
              "      <td>0</td>\n",
              "      <td>0</td>\n",
              "      <td>0</td>\n",
              "      <td>0</td>\n",
              "      <td>0</td>\n",
              "      <td>1</td>\n",
              "      <td>Contact with confirmed</td>\n",
              "      <td>1</td>\n",
              "    </tr>\n",
              "  </tbody>\n",
              "</table>\n",
              "</div>\n",
              "      <button class=\"colab-df-convert\" onclick=\"convertToInteractive('df-8bb7cbac-eb5e-49e7-8079-d62d15987611')\"\n",
              "              title=\"Convert this dataframe to an interactive table.\"\n",
              "              style=\"display:none;\">\n",
              "        \n",
              "  <svg xmlns=\"http://www.w3.org/2000/svg\" height=\"24px\"viewBox=\"0 0 24 24\"\n",
              "       width=\"24px\">\n",
              "    <path d=\"M0 0h24v24H0V0z\" fill=\"none\"/>\n",
              "    <path d=\"M18.56 5.44l.94 2.06.94-2.06 2.06-.94-2.06-.94-.94-2.06-.94 2.06-2.06.94zm-11 1L8.5 8.5l.94-2.06 2.06-.94-2.06-.94L8.5 2.5l-.94 2.06-2.06.94zm10 10l.94 2.06.94-2.06 2.06-.94-2.06-.94-.94-2.06-.94 2.06-2.06.94z\"/><path d=\"M17.41 7.96l-1.37-1.37c-.4-.4-.92-.59-1.43-.59-.52 0-1.04.2-1.43.59L10.3 9.45l-7.72 7.72c-.78.78-.78 2.05 0 2.83L4 21.41c.39.39.9.59 1.41.59.51 0 1.02-.2 1.41-.59l7.78-7.78 2.81-2.81c.8-.78.8-2.07 0-2.86zM5.41 20L4 18.59l7.72-7.72 1.47 1.35L5.41 20z\"/>\n",
              "  </svg>\n",
              "      </button>\n",
              "      \n",
              "  <style>\n",
              "    .colab-df-container {\n",
              "      display:flex;\n",
              "      flex-wrap:wrap;\n",
              "      gap: 12px;\n",
              "    }\n",
              "\n",
              "    .colab-df-convert {\n",
              "      background-color: #E8F0FE;\n",
              "      border: none;\n",
              "      border-radius: 50%;\n",
              "      cursor: pointer;\n",
              "      display: none;\n",
              "      fill: #1967D2;\n",
              "      height: 32px;\n",
              "      padding: 0 0 0 0;\n",
              "      width: 32px;\n",
              "    }\n",
              "\n",
              "    .colab-df-convert:hover {\n",
              "      background-color: #E2EBFA;\n",
              "      box-shadow: 0px 1px 2px rgba(60, 64, 67, 0.3), 0px 1px 3px 1px rgba(60, 64, 67, 0.15);\n",
              "      fill: #174EA6;\n",
              "    }\n",
              "\n",
              "    [theme=dark] .colab-df-convert {\n",
              "      background-color: #3B4455;\n",
              "      fill: #D2E3FC;\n",
              "    }\n",
              "\n",
              "    [theme=dark] .colab-df-convert:hover {\n",
              "      background-color: #434B5C;\n",
              "      box-shadow: 0px 1px 3px 1px rgba(0, 0, 0, 0.15);\n",
              "      filter: drop-shadow(0px 1px 2px rgba(0, 0, 0, 0.3));\n",
              "      fill: #FFFFFF;\n",
              "    }\n",
              "  </style>\n",
              "\n",
              "      <script>\n",
              "        const buttonEl =\n",
              "          document.querySelector('#df-8bb7cbac-eb5e-49e7-8079-d62d15987611 button.colab-df-convert');\n",
              "        buttonEl.style.display =\n",
              "          google.colab.kernel.accessAllowed ? 'block' : 'none';\n",
              "\n",
              "        async function convertToInteractive(key) {\n",
              "          const element = document.querySelector('#df-8bb7cbac-eb5e-49e7-8079-d62d15987611');\n",
              "          const dataTable =\n",
              "            await google.colab.kernel.invokeFunction('convertToInteractive',\n",
              "                                                     [key], {});\n",
              "          if (!dataTable) return;\n",
              "\n",
              "          const docLinkHtml = 'Like what you see? Visit the ' +\n",
              "            '<a target=\"_blank\" href=https://colab.research.google.com/notebooks/data_table.ipynb>data table notebook</a>'\n",
              "            + ' to learn more about interactive tables.';\n",
              "          element.innerHTML = '';\n",
              "          dataTable['output_type'] = 'display_data';\n",
              "          await google.colab.output.renderOutput(dataTable, element);\n",
              "          const docLink = document.createElement('div');\n",
              "          docLink.innerHTML = docLinkHtml;\n",
              "          element.appendChild(docLink);\n",
              "        }\n",
              "      </script>\n",
              "    </div>\n",
              "  </div>\n",
              "  "
            ]
          },
          "metadata": {},
          "execution_count": 8
        }
      ]
    },
    {
      "cell_type": "code",
      "source": [
        "del data['test_indication']\n",
        "data.head()"
      ],
      "metadata": {
        "colab": {
          "base_uri": "https://localhost:8080/",
          "height": 206
        },
        "id": "wUwA1Hecs6NH",
        "outputId": "970baa81-877c-4b3a-a3f8-869f0f004a60"
      },
      "execution_count": 9,
      "outputs": [
        {
          "output_type": "execute_result",
          "data": {
            "text/plain": [
              "    test_date  cough  fever  sore_throat  shortness_of_breath  head_ache  \\\n",
              "0  2020-11-12      0      0            0                    0          0   \n",
              "1  2020-11-12      0      1            0                    0          0   \n",
              "2  2020-11-12      0      0            0                    0          0   \n",
              "3  2020-11-12      0      0            0                    0          0   \n",
              "4  2020-11-12      0      1            0                    0          0   \n",
              "\n",
              "   corona_result  age_60_and_above  gender  contact_with_confirmed  \n",
              "0              0                 0       1                       0  \n",
              "1              0                 0       1                       0  \n",
              "2              0                 1       0                       0  \n",
              "3              0                 0       1                       0  \n",
              "4              0                 0       1                       1  "
            ],
            "text/html": [
              "\n",
              "  <div id=\"df-ea60163c-fcbe-4848-9be4-72c38de1505a\">\n",
              "    <div class=\"colab-df-container\">\n",
              "      <div>\n",
              "<style scoped>\n",
              "    .dataframe tbody tr th:only-of-type {\n",
              "        vertical-align: middle;\n",
              "    }\n",
              "\n",
              "    .dataframe tbody tr th {\n",
              "        vertical-align: top;\n",
              "    }\n",
              "\n",
              "    .dataframe thead th {\n",
              "        text-align: right;\n",
              "    }\n",
              "</style>\n",
              "<table border=\"1\" class=\"dataframe\">\n",
              "  <thead>\n",
              "    <tr style=\"text-align: right;\">\n",
              "      <th></th>\n",
              "      <th>test_date</th>\n",
              "      <th>cough</th>\n",
              "      <th>fever</th>\n",
              "      <th>sore_throat</th>\n",
              "      <th>shortness_of_breath</th>\n",
              "      <th>head_ache</th>\n",
              "      <th>corona_result</th>\n",
              "      <th>age_60_and_above</th>\n",
              "      <th>gender</th>\n",
              "      <th>contact_with_confirmed</th>\n",
              "    </tr>\n",
              "  </thead>\n",
              "  <tbody>\n",
              "    <tr>\n",
              "      <th>0</th>\n",
              "      <td>2020-11-12</td>\n",
              "      <td>0</td>\n",
              "      <td>0</td>\n",
              "      <td>0</td>\n",
              "      <td>0</td>\n",
              "      <td>0</td>\n",
              "      <td>0</td>\n",
              "      <td>0</td>\n",
              "      <td>1</td>\n",
              "      <td>0</td>\n",
              "    </tr>\n",
              "    <tr>\n",
              "      <th>1</th>\n",
              "      <td>2020-11-12</td>\n",
              "      <td>0</td>\n",
              "      <td>1</td>\n",
              "      <td>0</td>\n",
              "      <td>0</td>\n",
              "      <td>0</td>\n",
              "      <td>0</td>\n",
              "      <td>0</td>\n",
              "      <td>1</td>\n",
              "      <td>0</td>\n",
              "    </tr>\n",
              "    <tr>\n",
              "      <th>2</th>\n",
              "      <td>2020-11-12</td>\n",
              "      <td>0</td>\n",
              "      <td>0</td>\n",
              "      <td>0</td>\n",
              "      <td>0</td>\n",
              "      <td>0</td>\n",
              "      <td>0</td>\n",
              "      <td>1</td>\n",
              "      <td>0</td>\n",
              "      <td>0</td>\n",
              "    </tr>\n",
              "    <tr>\n",
              "      <th>3</th>\n",
              "      <td>2020-11-12</td>\n",
              "      <td>0</td>\n",
              "      <td>0</td>\n",
              "      <td>0</td>\n",
              "      <td>0</td>\n",
              "      <td>0</td>\n",
              "      <td>0</td>\n",
              "      <td>0</td>\n",
              "      <td>1</td>\n",
              "      <td>0</td>\n",
              "    </tr>\n",
              "    <tr>\n",
              "      <th>4</th>\n",
              "      <td>2020-11-12</td>\n",
              "      <td>0</td>\n",
              "      <td>1</td>\n",
              "      <td>0</td>\n",
              "      <td>0</td>\n",
              "      <td>0</td>\n",
              "      <td>0</td>\n",
              "      <td>0</td>\n",
              "      <td>1</td>\n",
              "      <td>1</td>\n",
              "    </tr>\n",
              "  </tbody>\n",
              "</table>\n",
              "</div>\n",
              "      <button class=\"colab-df-convert\" onclick=\"convertToInteractive('df-ea60163c-fcbe-4848-9be4-72c38de1505a')\"\n",
              "              title=\"Convert this dataframe to an interactive table.\"\n",
              "              style=\"display:none;\">\n",
              "        \n",
              "  <svg xmlns=\"http://www.w3.org/2000/svg\" height=\"24px\"viewBox=\"0 0 24 24\"\n",
              "       width=\"24px\">\n",
              "    <path d=\"M0 0h24v24H0V0z\" fill=\"none\"/>\n",
              "    <path d=\"M18.56 5.44l.94 2.06.94-2.06 2.06-.94-2.06-.94-.94-2.06-.94 2.06-2.06.94zm-11 1L8.5 8.5l.94-2.06 2.06-.94-2.06-.94L8.5 2.5l-.94 2.06-2.06.94zm10 10l.94 2.06.94-2.06 2.06-.94-2.06-.94-.94-2.06-.94 2.06-2.06.94z\"/><path d=\"M17.41 7.96l-1.37-1.37c-.4-.4-.92-.59-1.43-.59-.52 0-1.04.2-1.43.59L10.3 9.45l-7.72 7.72c-.78.78-.78 2.05 0 2.83L4 21.41c.39.39.9.59 1.41.59.51 0 1.02-.2 1.41-.59l7.78-7.78 2.81-2.81c.8-.78.8-2.07 0-2.86zM5.41 20L4 18.59l7.72-7.72 1.47 1.35L5.41 20z\"/>\n",
              "  </svg>\n",
              "      </button>\n",
              "      \n",
              "  <style>\n",
              "    .colab-df-container {\n",
              "      display:flex;\n",
              "      flex-wrap:wrap;\n",
              "      gap: 12px;\n",
              "    }\n",
              "\n",
              "    .colab-df-convert {\n",
              "      background-color: #E8F0FE;\n",
              "      border: none;\n",
              "      border-radius: 50%;\n",
              "      cursor: pointer;\n",
              "      display: none;\n",
              "      fill: #1967D2;\n",
              "      height: 32px;\n",
              "      padding: 0 0 0 0;\n",
              "      width: 32px;\n",
              "    }\n",
              "\n",
              "    .colab-df-convert:hover {\n",
              "      background-color: #E2EBFA;\n",
              "      box-shadow: 0px 1px 2px rgba(60, 64, 67, 0.3), 0px 1px 3px 1px rgba(60, 64, 67, 0.15);\n",
              "      fill: #174EA6;\n",
              "    }\n",
              "\n",
              "    [theme=dark] .colab-df-convert {\n",
              "      background-color: #3B4455;\n",
              "      fill: #D2E3FC;\n",
              "    }\n",
              "\n",
              "    [theme=dark] .colab-df-convert:hover {\n",
              "      background-color: #434B5C;\n",
              "      box-shadow: 0px 1px 3px 1px rgba(0, 0, 0, 0.15);\n",
              "      filter: drop-shadow(0px 1px 2px rgba(0, 0, 0, 0.3));\n",
              "      fill: #FFFFFF;\n",
              "    }\n",
              "  </style>\n",
              "\n",
              "      <script>\n",
              "        const buttonEl =\n",
              "          document.querySelector('#df-ea60163c-fcbe-4848-9be4-72c38de1505a button.colab-df-convert');\n",
              "        buttonEl.style.display =\n",
              "          google.colab.kernel.accessAllowed ? 'block' : 'none';\n",
              "\n",
              "        async function convertToInteractive(key) {\n",
              "          const element = document.querySelector('#df-ea60163c-fcbe-4848-9be4-72c38de1505a');\n",
              "          const dataTable =\n",
              "            await google.colab.kernel.invokeFunction('convertToInteractive',\n",
              "                                                     [key], {});\n",
              "          if (!dataTable) return;\n",
              "\n",
              "          const docLinkHtml = 'Like what you see? Visit the ' +\n",
              "            '<a target=\"_blank\" href=https://colab.research.google.com/notebooks/data_table.ipynb>data table notebook</a>'\n",
              "            + ' to learn more about interactive tables.';\n",
              "          element.innerHTML = '';\n",
              "          dataTable['output_type'] = 'display_data';\n",
              "          await google.colab.output.renderOutput(dataTable, element);\n",
              "          const docLink = document.createElement('div');\n",
              "          docLink.innerHTML = docLinkHtml;\n",
              "          element.appendChild(docLink);\n",
              "        }\n",
              "      </script>\n",
              "    </div>\n",
              "  </div>\n",
              "  "
            ]
          },
          "metadata": {},
          "execution_count": 9
        }
      ]
    },
    {
      "cell_type": "markdown",
      "source": [
        "# **Training The Model**"
      ],
      "metadata": {
        "id": "fR8EOy4AxC9T"
      }
    },
    {
      "cell_type": "markdown",
      "source": [
        "\n",
        "\n",
        "*   **Learning rate** - How much of the tree's contribution you want to be added to the final model.Learning rate means how fast the model learns. Each tree added modifies the overall model. The magnitude of the modification is controlled by learning rate. \n",
        "*   **N_estimator** - n_estimator is the number of trees used in the model. If the learning rate is low, we need more trees to train the model.\n",
        "\n",
        "\n",
        "*  **Max_depth** - max depth of the individual regression estimators. max depth limits the number of nodes in the tree, it is the maximum depth the tree can achieve.\n",
        "\n",
        "\n",
        "\n",
        "\n",
        "\n"
      ],
      "metadata": {
        "id": "cT39K0rO0vcP"
      }
    },
    {
      "cell_type": "code",
      "source": [
        "from sklearn.model_selection import train_test_split\n"
      ],
      "metadata": {
        "id": "C83UIMpYLfC6"
      },
      "execution_count": 10,
      "outputs": []
    },
    {
      "cell_type": "markdown",
      "source": [
        "train_test_split() is a function for splitting the data arrays into two subsets, one for training and one for testing the data.with this function you don't need to split the data set manually. Syntax for train_test_split:\n",
        "\n",
        "train_test_split(X, y, train_size=0.* , test_size=0.* , random_state=*)\n",
        "\n",
        "* X, y -> The first parameter is the dataset you're selecting to use.\n",
        "* train_size -> This parameter sets the size of the training dataset. There are three options: None, which is the default, Int, which requires the exact number of samples, and float, which ranges from 0.1 to 1.0.\n",
        "* test_size-> This parameter specifies the size of the testing dataset. The default state suits the training size. It will be set to 0.25 if the training size is set to default.\n",
        "* random_state-> The default mode performs a random split using np.random. Alternatively, you can add an integer using an exact number.Random state ensures that the splits that you generate are reproducible. Scikit-learn uses random permutations to generate the splits. The random state that you provide is used as a seed to the random number generator. This ensures that the random numbers are generated in the same order. If the random state is a particular value then each time you refresh the notebook the same training and test samples are there."
      ],
      "metadata": {
        "id": "KI8fT0TqQW-C"
      }
    },
    {
      "cell_type": "markdown",
      "source": [
        "**How gradientBoosting Works**"
      ],
      "metadata": {
        "id": "drnC9ZgUptWj"
      }
    },
    {
      "cell_type": "markdown",
      "source": [
        "![gradientboosting.PNG](data:image/png;base64,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)"
      ],
      "metadata": {
        "id": "Ceg4RDgqpf3E"
      }
    },
    {
      "cell_type": "code",
      "source": [
        "def build_model(X,y):\n",
        "\n",
        "    learning_rate = 0.2\n",
        "    no_of_estimators = 200\n",
        "    max_depth = 3\n",
        "    X_train, X_test, y_train, y_test = train_test_split(X, y, test_size=0.2, random_state=1)    #here 80% of the dataset is used for training the data and\n",
        "                                                                                                # 20% of the dataset is used for testing the data.\n",
        "    model = GradientBoostingClassifier(learning_rate=0.2,n_estimators=no_of_estimators,max_depth=max_depth)  #now build the model\n",
        "    model.fit(X_train, y_train)     #fit training data. For supervised learning applications, this accepts two arguments: the data X and the labels y\n",
        "                                    #(e.g. model.fit(X, y)). For unsupervised learning applications, this accepts only a single argument, the data X \n",
        "                                    #(e.g. model.fit(X)).\n",
        "    #for i in range (3):\n",
        "     # print(y_test)\n",
        "    return X_train, X_test, y_train, y_test, model\n",
        "\n",
        "def predict(X_test):\n",
        "    y_pred = model.predict(X_test)   #given a trained model, predict the label of a new set of data.model.predict takes one input that is X and \n",
        "                                     #predicts y(the label)\n",
        "    #for y in range(3):\n",
        "     # print(y_pred)\n",
        "    return y_pred"
      ],
      "metadata": {
        "id": "_PbYm9VwxJZN"
      },
      "execution_count": 11,
      "outputs": []
    },
    {
      "cell_type": "code",
      "source": [
        "X = data[['cough','fever','sore_throat','shortness_of_breath','head_ache','age_60_and_above','gender','contact_with_confirmed']]\n",
        "y = data[['corona_result']]\n",
        "#X is the columns with the factors we are considering to predict y (the corona result)"
      ],
      "metadata": {
        "id": "RYW5XZwRsIRk"
      },
      "execution_count": 12,
      "outputs": []
    },
    {
      "cell_type": "markdown",
      "source": [
        "# **Testing The Model**"
      ],
      "metadata": {
        "id": "QQPUZ6-oweq6"
      }
    },
    {
      "cell_type": "code",
      "source": [
        "from sklearn.metrics import accuracy_score\n",
        "from sklearn.metrics import recall_score, precision_score, classification_report, plot_roc_curve"
      ],
      "metadata": {
        "id": "BPpOefiKwk-C"
      },
      "execution_count": 13,
      "outputs": []
    },
    {
      "cell_type": "markdown",
      "source": [
        "* accuracy_score(y_true, y_pred, *, normalize=True, sample_weight=None)\n",
        "y_true is the correct labels\n",
        "y_pred is the labels as predicted by the classifier\n",
        "If normalize is True it will return the percentage of samples classified correctly, if normalize is False it will return the number of samples predicted correctly\n",
        "* recall_score(y_test,y_train)\n",
        "Out of all the positive corona cases it will tell how much the model actually identified  as positive. Recall is defined as the ratio of true positives to the sum of true positives and false negatives.What percent of the positive cases did you catch?\n",
        "* precision score\n",
        "Precision is defined as the ratio of true positives to the sum of true and false positives.What percent of your predictions were correct?"
      ],
      "metadata": {
        "id": "jJhmZI_AxXhs"
      }
    },
    {
      "cell_type": "code",
      "source": [
        "def metrics(y_test,y_pred):\n",
        "  accu_score = accuracy_score(y_true=y_test,y_pred=y_pred)\n",
        "  print(\"accuracy score is %.2f%%\" %(accu_score * 100.0))\n",
        "  recall = recall_score(y_test,y_pred)\n",
        "  print(\"recall score is %.2f%%\" %(recall*100.0))\n",
        "  prec = precision_score(y_test,y_pred)\n",
        "  print(\"prec score is %.2f%%\" %(prec*100.0))\n",
        "from sklearn.metrics import confusion_matrix\n",
        "from matplotlib import pyplot as plt\n",
        "\n",
        "def plot_conf_matrix(y_test,y_pred):\n",
        "    conf_mat = confusion_matrix(y_true=y_test, y_pred=y_pred)\n",
        "    print('Confusion matrix:\\n', conf_mat)\n",
        "\n",
        "    labels = ['False', 'True']\n",
        "    fig = plt.figure()\n",
        "    ax = fig.add_subplot(111)  # 1x1 grid 1st subplot \n",
        "    cax = ax.matshow(conf_mat, cmap=plt.cm.Blues)\n",
        "    fig.colorbar(cax)                           #heat map can be generated for better visualization of the confusion matrix\n",
        "    ax.set_xticklabels([''] + labels)   #xtick means where the x tick mark for the plot should be\n",
        "    ax.set_yticklabels([''] + labels)\n",
        "    plt.xlabel('Predicted')\n",
        "    plt.ylabel('Expected')\n",
        "    plt.show()\n",
        "    \n",
        "def classification_report_func(y_test,y_pred,target):   \n",
        "    report = classification_report(y_test, y_pred,target_names=['False','True'])  #target names are optional display names matching the labels\n",
        "                                                                                       # (same order).\n",
        "    return report\n",
        "\n",
        "def roc_curve(model,X_test,y_test):\n",
        "    plot_roc_curve(model, X_test, y_test)\n",
        "    return plot_roc_curve\n",
        "  "
      ],
      "metadata": {
        "id": "iLnV8eGowmWb"
      },
      "execution_count": 14,
      "outputs": []
    },
    {
      "cell_type": "code",
      "source": [
        "X_train,X_test,y_train,y_test,model = build_model(X,y)\n",
        "#for i in range(2):\n",
        "y_pred = predict(X_test)\n",
        "  #print(\"y_test and y_pred\",y_test,y_pred)\n",
        "  #print(y_pred)\n",
        "#for i in range(2):\n",
        "#  print(\"y_test and y_pred\",y_test,y_pred)\n",
        "metrics(y_test,y_pred)\n",
        "#classification_report = classification_report_func(y_test,y_pred,target=['class 0','class 1'])\n",
        "classification_report = classification_report_func(y_test,y_pred,['False','True'])\n",
        "print(classification_report)\n",
        "plot_conf_matrix(y_test,y_pred)\n",
        "roc_curve(model,X_test,y_test)"
      ],
      "metadata": {
        "colab": {
          "base_uri": "https://localhost:8080/",
          "height": 908
        },
        "id": "ZnirVL4QchAB",
        "outputId": "ce03409a-0ff3-4a58-d2d8-01b03fa59444"
      },
      "execution_count": 15,
      "outputs": [
        {
          "output_type": "stream",
          "name": "stderr",
          "text": [
            "/usr/local/lib/python3.7/dist-packages/sklearn/ensemble/_gb.py:494: DataConversionWarning: A column-vector y was passed when a 1d array was expected. Please change the shape of y to (n_samples, ), for example using ravel().\n",
            "  y = column_or_1d(y, warn=True)\n"
          ]
        },
        {
          "output_type": "stream",
          "name": "stdout",
          "text": [
            "accuracy score is 97.87%\n",
            "recall score is 37.27%\n",
            "prec score is 80.96%\n",
            "              precision    recall  f1-score   support\n",
            "\n",
            "       False       0.98      1.00      0.99     27845\n",
            "        True       0.81      0.37      0.51       856\n",
            "\n",
            "    accuracy                           0.98     28701\n",
            "   macro avg       0.90      0.68      0.75     28701\n",
            "weighted avg       0.98      0.98      0.97     28701\n",
            "\n",
            "Confusion matrix:\n",
            " [[27770    75]\n",
            " [  537   319]]\n"
          ]
        },
        {
          "output_type": "display_data",
          "data": {
            "text/plain": [
              "<Figure size 432x288 with 2 Axes>"
            ],
            "image/png": "[encoded data removed]"
          },
          "metadata": {
            "needs_background": "light"
          }
        },
        {
          "output_type": "stream",
          "name": "stderr",
          "text": [
            "/usr/local/lib/python3.7/dist-packages/sklearn/utils/deprecation.py:87: FutureWarning: Function plot_roc_curve is deprecated; Function :func:`plot_roc_curve` is deprecated in 1.0 and will be removed in 1.2. Use one of the class methods: :meth:`sklearn.metric.RocCurveDisplay.from_predictions` or :meth:`sklearn.metric.RocCurveDisplay.from_estimator`.\n",
            "  warnings.warn(msg, category=FutureWarning)\n"
          ]
        },
        {
          "output_type": "execute_result",
          "data": {
            "text/plain": [
              "<function sklearn.metrics._plot.roc_curve.plot_roc_curve>"
            ]
          },
          "metadata": {},
          "execution_count": 15
        },
        {
          "output_type": "display_data",
          "data": {
            "text/plain": [
              "<Figure size 432x288 with 1 Axes>"
            ],
            "image/png": "[encoded data removed]"
          },
          "metadata": {
            "needs_background": "light"
          }
        }
      ]
    },
    {
      "cell_type": "markdown",
      "source": [
        "* The confusion matrix visualizes the accuracy of a classifier by comparing the actual and predicted classes. \n",
        "* classification report will give the model's accuracy,recall etc. \n",
        "* ROC curve, also known as Receiver Operating Characteristics Curve, is a metric used to measure the performance of a classifier model. The ROC curve depicts the rate of true positives with respect to the rate of false positives, therefore highlighting the sensitivity of the classifier model.\n",
        "![image.png](data:image/png;base64,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)"
      ],
      "metadata": {
        "id": "UoHAWXyyeXa_"
      }
    },
    {
      "cell_type": "code",
      "source": [
        "# the recall score is just 37.27% because the model is imbalanced (in the dataset the number of people with a negative corona test exceeds the number of\n",
        "# people with a positive corona test by a large amount)and the classifier is classifying everything to the false class (showing that the corona\n",
        "# result of the person is negative)"
      ],
      "metadata": {
        "id": "miJ8_J65jYAF"
      },
      "execution_count": 16,
      "outputs": []
    },
    {
      "cell_type": "code",
      "source": [
        "from pandas import Series\n",
        "from numpy.random import randn\n",
        "#pd.DataFrame(data={'predictions': y_pred, 'actual': y_test.flatten()})\n",
        "#data.head()\n",
        "df = pd.DataFrame({'Actual': y_test.values.flatten(), 'Predicted': y_pred})\n",
        "df\n",
        "#index 24 is predicted wrong\n",
        "#only index 64 is 1\n",
        "\n"
      ],
      "metadata": {
        "colab": {
          "base_uri": "https://localhost:8080/",
          "height": 424
        },
        "id": "7FWOoGF4pyvL",
        "outputId": "233b5f15-c9d4-40aa-a283-03d8fc8ed44c"
      },
      "execution_count": 17,
      "outputs": [
        {
          "output_type": "execute_result",
          "data": {
            "text/plain": [
              "       Actual  Predicted\n",
              "0           0          0\n",
              "1           0          0\n",
              "2           0          0\n",
              "3           0          0\n",
              "4           0          0\n",
              "...       ...        ...\n",
              "28696       0          0\n",
              "28697       0          0\n",
              "28698       0          0\n",
              "28699       0          0\n",
              "28700       0          0\n",
              "\n",
              "[28701 rows x 2 columns]"
            ],
            "text/html": [
              "\n",
              "  <div id=\"df-eb15c3b4-459f-465e-977f-49bb2f203904\">\n",
              "    <div class=\"colab-df-container\">\n",
              "      <div>\n",
              "<style scoped>\n",
              "    .dataframe tbody tr th:only-of-type {\n",
              "        vertical-align: middle;\n",
              "    }\n",
              "\n",
              "    .dataframe tbody tr th {\n",
              "        vertical-align: top;\n",
              "    }\n",
              "\n",
              "    .dataframe thead th {\n",
              "        text-align: right;\n",
              "    }\n",
              "</style>\n",
              "<table border=\"1\" class=\"dataframe\">\n",
              "  <thead>\n",
              "    <tr style=\"text-align: right;\">\n",
              "      <th></th>\n",
              "      <th>Actual</th>\n",
              "      <th>Predicted</th>\n",
              "    </tr>\n",
              "  </thead>\n",
              "  <tbody>\n",
              "    <tr>\n",
              "      <th>0</th>\n",
              "      <td>0</td>\n",
              "      <td>0</td>\n",
              "    </tr>\n",
              "    <tr>\n",
              "      <th>1</th>\n",
              "      <td>0</td>\n",
              "      <td>0</td>\n",
              "    </tr>\n",
              "    <tr>\n",
              "      <th>2</th>\n",
              "      <td>0</td>\n",
              "      <td>0</td>\n",
              "    </tr>\n",
              "    <tr>\n",
              "      <th>3</th>\n",
              "      <td>0</td>\n",
              "      <td>0</td>\n",
              "    </tr>\n",
              "    <tr>\n",
              "      <th>4</th>\n",
              "      <td>0</td>\n",
              "      <td>0</td>\n",
              "    </tr>\n",
              "    <tr>\n",
              "      <th>...</th>\n",
              "      <td>...</td>\n",
              "      <td>...</td>\n",
              "    </tr>\n",
              "    <tr>\n",
              "      <th>28696</th>\n",
              "      <td>0</td>\n",
              "      <td>0</td>\n",
              "    </tr>\n",
              "    <tr>\n",
              "      <th>28697</th>\n",
              "      <td>0</td>\n",
              "      <td>0</td>\n",
              "    </tr>\n",
              "    <tr>\n",
              "      <th>28698</th>\n",
              "      <td>0</td>\n",
              "      <td>0</td>\n",
              "    </tr>\n",
              "    <tr>\n",
              "      <th>28699</th>\n",
              "      <td>0</td>\n",
              "      <td>0</td>\n",
              "    </tr>\n",
              "    <tr>\n",
              "      <th>28700</th>\n",
              "      <td>0</td>\n",
              "      <td>0</td>\n",
              "    </tr>\n",
              "  </tbody>\n",
              "</table>\n",
              "<p>28701 rows × 2 columns</p>\n",
              "</div>\n",
              "      <button class=\"colab-df-convert\" onclick=\"convertToInteractive('df-eb15c3b4-459f-465e-977f-49bb2f203904')\"\n",
              "              title=\"Convert this dataframe to an interactive table.\"\n",
              "              style=\"display:none;\">\n",
              "        \n",
              "  <svg xmlns=\"http://www.w3.org/2000/svg\" height=\"24px\"viewBox=\"0 0 24 24\"\n",
              "       width=\"24px\">\n",
              "    <path d=\"M0 0h24v24H0V0z\" fill=\"none\"/>\n",
              "    <path d=\"M18.56 5.44l.94 2.06.94-2.06 2.06-.94-2.06-.94-.94-2.06-.94 2.06-2.06.94zm-11 1L8.5 8.5l.94-2.06 2.06-.94-2.06-.94L8.5 2.5l-.94 2.06-2.06.94zm10 10l.94 2.06.94-2.06 2.06-.94-2.06-.94-.94-2.06-.94 2.06-2.06.94z\"/><path d=\"M17.41 7.96l-1.37-1.37c-.4-.4-.92-.59-1.43-.59-.52 0-1.04.2-1.43.59L10.3 9.45l-7.72 7.72c-.78.78-.78 2.05 0 2.83L4 21.41c.39.39.9.59 1.41.59.51 0 1.02-.2 1.41-.59l7.78-7.78 2.81-2.81c.8-.78.8-2.07 0-2.86zM5.41 20L4 18.59l7.72-7.72 1.47 1.35L5.41 20z\"/>\n",
              "  </svg>\n",
              "      </button>\n",
              "      \n",
              "  <style>\n",
              "    .colab-df-container {\n",
              "      display:flex;\n",
              "      flex-wrap:wrap;\n",
              "      gap: 12px;\n",
              "    }\n",
              "\n",
              "    .colab-df-convert {\n",
              "      background-color: #E8F0FE;\n",
              "      border: none;\n",
              "      border-radius: 50%;\n",
              "      cursor: pointer;\n",
              "      display: none;\n",
              "      fill: #1967D2;\n",
              "      height: 32px;\n",
              "      padding: 0 0 0 0;\n",
              "      width: 32px;\n",
              "    }\n",
              "\n",
              "    .colab-df-convert:hover {\n",
              "      background-color: #E2EBFA;\n",
              "      box-shadow: 0px 1px 2px rgba(60, 64, 67, 0.3), 0px 1px 3px 1px rgba(60, 64, 67, 0.15);\n",
              "      fill: #174EA6;\n",
              "    }\n",
              "\n",
              "    [theme=dark] .colab-df-convert {\n",
              "      background-color: #3B4455;\n",
              "      fill: #D2E3FC;\n",
              "    }\n",
              "\n",
              "    [theme=dark] .colab-df-convert:hover {\n",
              "      background-color: #434B5C;\n",
              "      box-shadow: 0px 1px 3px 1px rgba(0, 0, 0, 0.15);\n",
              "      filter: drop-shadow(0px 1px 2px rgba(0, 0, 0, 0.3));\n",
              "      fill: #FFFFFF;\n",
              "    }\n",
              "  </style>\n",
              "\n",
              "      <script>\n",
              "        const buttonEl =\n",
              "          document.querySelector('#df-eb15c3b4-459f-465e-977f-49bb2f203904 button.colab-df-convert');\n",
              "        buttonEl.style.display =\n",
              "          google.colab.kernel.accessAllowed ? 'block' : 'none';\n",
              "\n",
              "        async function convertToInteractive(key) {\n",
              "          const element = document.querySelector('#df-eb15c3b4-459f-465e-977f-49bb2f203904');\n",
              "          const dataTable =\n",
              "            await google.colab.kernel.invokeFunction('convertToInteractive',\n",
              "                                                     [key], {});\n",
              "          if (!dataTable) return;\n",
              "\n",
              "          const docLinkHtml = 'Like what you see? Visit the ' +\n",
              "            '<a target=\"_blank\" href=https://colab.research.google.com/notebooks/data_table.ipynb>data table notebook</a>'\n",
              "            + ' to learn more about interactive tables.';\n",
              "          element.innerHTML = '';\n",
              "          dataTable['output_type'] = 'display_data';\n",
              "          await google.colab.output.renderOutput(dataTable, element);\n",
              "          const docLink = document.createElement('div');\n",
              "          docLink.innerHTML = docLinkHtml;\n",
              "          element.appendChild(docLink);\n",
              "        }\n",
              "      </script>\n",
              "    </div>\n",
              "  </div>\n",
              "  "
            ]
          },
          "metadata": {},
          "execution_count": 17
        }
      ]
    },
    {
      "cell_type": "code",
      "source": [
        "df.loc[[24]]\n"
      ],
      "metadata": {
        "colab": {
          "base_uri": "https://localhost:8080/",
          "height": 81
        },
        "id": "IWhbs-bVsYpO",
        "outputId": "96d19c20-a201-4c85-ee76-6716ee8dc626"
      },
      "execution_count": 18,
      "outputs": [
        {
          "output_type": "execute_result",
          "data": {
            "text/plain": [
              "    Actual  Predicted\n",
              "24       1          0"
            ],
            "text/html": [
              "\n",
              "  <div id=\"df-66dd7241-0a17-4c48-8682-d764cc4c3145\">\n",
              "    <div class=\"colab-df-container\">\n",
              "      <div>\n",
              "<style scoped>\n",
              "    .dataframe tbody tr th:only-of-type {\n",
              "        vertical-align: middle;\n",
              "    }\n",
              "\n",
              "    .dataframe tbody tr th {\n",
              "        vertical-align: top;\n",
              "    }\n",
              "\n",
              "    .dataframe thead th {\n",
              "        text-align: right;\n",
              "    }\n",
              "</style>\n",
              "<table border=\"1\" class=\"dataframe\">\n",
              "  <thead>\n",
              "    <tr style=\"text-align: right;\">\n",
              "      <th></th>\n",
              "      <th>Actual</th>\n",
              "      <th>Predicted</th>\n",
              "    </tr>\n",
              "  </thead>\n",
              "  <tbody>\n",
              "    <tr>\n",
              "      <th>24</th>\n",
              "      <td>1</td>\n",
              "      <td>0</td>\n",
              "    </tr>\n",
              "  </tbody>\n",
              "</table>\n",
              "</div>\n",
              "      <button class=\"colab-df-convert\" onclick=\"convertToInteractive('df-66dd7241-0a17-4c48-8682-d764cc4c3145')\"\n",
              "              title=\"Convert this dataframe to an interactive table.\"\n",
              "              style=\"display:none;\">\n",
              "        \n",
              "  <svg xmlns=\"http://www.w3.org/2000/svg\" height=\"24px\"viewBox=\"0 0 24 24\"\n",
              "       width=\"24px\">\n",
              "    <path d=\"M0 0h24v24H0V0z\" fill=\"none\"/>\n",
              "    <path d=\"M18.56 5.44l.94 2.06.94-2.06 2.06-.94-2.06-.94-.94-2.06-.94 2.06-2.06.94zm-11 1L8.5 8.5l.94-2.06 2.06-.94-2.06-.94L8.5 2.5l-.94 2.06-2.06.94zm10 10l.94 2.06.94-2.06 2.06-.94-2.06-.94-.94-2.06-.94 2.06-2.06.94z\"/><path d=\"M17.41 7.96l-1.37-1.37c-.4-.4-.92-.59-1.43-.59-.52 0-1.04.2-1.43.59L10.3 9.45l-7.72 7.72c-.78.78-.78 2.05 0 2.83L4 21.41c.39.39.9.59 1.41.59.51 0 1.02-.2 1.41-.59l7.78-7.78 2.81-2.81c.8-.78.8-2.07 0-2.86zM5.41 20L4 18.59l7.72-7.72 1.47 1.35L5.41 20z\"/>\n",
              "  </svg>\n",
              "      </button>\n",
              "      \n",
              "  <style>\n",
              "    .colab-df-container {\n",
              "      display:flex;\n",
              "      flex-wrap:wrap;\n",
              "      gap: 12px;\n",
              "    }\n",
              "\n",
              "    .colab-df-convert {\n",
              "      background-color: #E8F0FE;\n",
              "      border: none;\n",
              "      border-radius: 50%;\n",
              "      cursor: pointer;\n",
              "      display: none;\n",
              "      fill: #1967D2;\n",
              "      height: 32px;\n",
              "      padding: 0 0 0 0;\n",
              "      width: 32px;\n",
              "    }\n",
              "\n",
              "    .colab-df-convert:hover {\n",
              "      background-color: #E2EBFA;\n",
              "      box-shadow: 0px 1px 2px rgba(60, 64, 67, 0.3), 0px 1px 3px 1px rgba(60, 64, 67, 0.15);\n",
              "      fill: #174EA6;\n",
              "    }\n",
              "\n",
              "    [theme=dark] .colab-df-convert {\n",
              "      background-color: #3B4455;\n",
              "      fill: #D2E3FC;\n",
              "    }\n",
              "\n",
              "    [theme=dark] .colab-df-convert:hover {\n",
              "      background-color: #434B5C;\n",
              "      box-shadow: 0px 1px 3px 1px rgba(0, 0, 0, 0.15);\n",
              "      filter: drop-shadow(0px 1px 2px rgba(0, 0, 0, 0.3));\n",
              "      fill: #FFFFFF;\n",
              "    }\n",
              "  </style>\n",
              "\n",
              "      <script>\n",
              "        const buttonEl =\n",
              "          document.querySelector('#df-66dd7241-0a17-4c48-8682-d764cc4c3145 button.colab-df-convert');\n",
              "        buttonEl.style.display =\n",
              "          google.colab.kernel.accessAllowed ? 'block' : 'none';\n",
              "\n",
              "        async function convertToInteractive(key) {\n",
              "          const element = document.querySelector('#df-66dd7241-0a17-4c48-8682-d764cc4c3145');\n",
              "          const dataTable =\n",
              "            await google.colab.kernel.invokeFunction('convertToInteractive',\n",
              "                                                     [key], {});\n",
              "          if (!dataTable) return;\n",
              "\n",
              "          const docLinkHtml = 'Like what you see? Visit the ' +\n",
              "            '<a target=\"_blank\" href=https://colab.research.google.com/notebooks/data_table.ipynb>data table notebook</a>'\n",
              "            + ' to learn more about interactive tables.';\n",
              "          element.innerHTML = '';\n",
              "          dataTable['output_type'] = 'display_data';\n",
              "          await google.colab.output.renderOutput(dataTable, element);\n",
              "          const docLink = document.createElement('div');\n",
              "          docLink.innerHTML = docLinkHtml;\n",
              "          element.appendChild(docLink);\n",
              "        }\n",
              "      </script>\n",
              "    </div>\n",
              "  </div>\n",
              "  "
            ]
          },
          "metadata": {},
          "execution_count": 18
        }
      ]
    },
    {
      "cell_type": "code",
      "source": [
        "df.loc[[64]]"
      ],
      "metadata": {
        "colab": {
          "base_uri": "https://localhost:8080/",
          "height": 81
        },
        "id": "eboigXdmsc5P",
        "outputId": "49590ce1-5745-430e-b458-57d9ffc05b1d"
      },
      "execution_count": 19,
      "outputs": [
        {
          "output_type": "execute_result",
          "data": {
            "text/plain": [
              "    Actual  Predicted\n",
              "64       1          1"
            ],
            "text/html": [
              "\n",
              "  <div id=\"df-c98cb48a-3439-4833-9b0c-fb9b6136eef1\">\n",
              "    <div class=\"colab-df-container\">\n",
              "      <div>\n",
              "<style scoped>\n",
              "    .dataframe tbody tr th:only-of-type {\n",
              "        vertical-align: middle;\n",
              "    }\n",
              "\n",
              "    .dataframe tbody tr th {\n",
              "        vertical-align: top;\n",
              "    }\n",
              "\n",
              "    .dataframe thead th {\n",
              "        text-align: right;\n",
              "    }\n",
              "</style>\n",
              "<table border=\"1\" class=\"dataframe\">\n",
              "  <thead>\n",
              "    <tr style=\"text-align: right;\">\n",
              "      <th></th>\n",
              "      <th>Actual</th>\n",
              "      <th>Predicted</th>\n",
              "    </tr>\n",
              "  </thead>\n",
              "  <tbody>\n",
              "    <tr>\n",
              "      <th>64</th>\n",
              "      <td>1</td>\n",
              "      <td>1</td>\n",
              "    </tr>\n",
              "  </tbody>\n",
              "</table>\n",
              "</div>\n",
              "      <button class=\"colab-df-convert\" onclick=\"convertToInteractive('df-c98cb48a-3439-4833-9b0c-fb9b6136eef1')\"\n",
              "              title=\"Convert this dataframe to an interactive table.\"\n",
              "              style=\"display:none;\">\n",
              "        \n",
              "  <svg xmlns=\"http://www.w3.org/2000/svg\" height=\"24px\"viewBox=\"0 0 24 24\"\n",
              "       width=\"24px\">\n",
              "    <path d=\"M0 0h24v24H0V0z\" fill=\"none\"/>\n",
              "    <path d=\"M18.56 5.44l.94 2.06.94-2.06 2.06-.94-2.06-.94-.94-2.06-.94 2.06-2.06.94zm-11 1L8.5 8.5l.94-2.06 2.06-.94-2.06-.94L8.5 2.5l-.94 2.06-2.06.94zm10 10l.94 2.06.94-2.06 2.06-.94-2.06-.94-.94-2.06-.94 2.06-2.06.94z\"/><path d=\"M17.41 7.96l-1.37-1.37c-.4-.4-.92-.59-1.43-.59-.52 0-1.04.2-1.43.59L10.3 9.45l-7.72 7.72c-.78.78-.78 2.05 0 2.83L4 21.41c.39.39.9.59 1.41.59.51 0 1.02-.2 1.41-.59l7.78-7.78 2.81-2.81c.8-.78.8-2.07 0-2.86zM5.41 20L4 18.59l7.72-7.72 1.47 1.35L5.41 20z\"/>\n",
              "  </svg>\n",
              "      </button>\n",
              "      \n",
              "  <style>\n",
              "    .colab-df-container {\n",
              "      display:flex;\n",
              "      flex-wrap:wrap;\n",
              "      gap: 12px;\n",
              "    }\n",
              "\n",
              "    .colab-df-convert {\n",
              "      background-color: #E8F0FE;\n",
              "      border: none;\n",
              "      border-radius: 50%;\n",
              "      cursor: pointer;\n",
              "      display: none;\n",
              "      fill: #1967D2;\n",
              "      height: 32px;\n",
              "      padding: 0 0 0 0;\n",
              "      width: 32px;\n",
              "    }\n",
              "\n",
              "    .colab-df-convert:hover {\n",
              "      background-color: #E2EBFA;\n",
              "      box-shadow: 0px 1px 2px rgba(60, 64, 67, 0.3), 0px 1px 3px 1px rgba(60, 64, 67, 0.15);\n",
              "      fill: #174EA6;\n",
              "    }\n",
              "\n",
              "    [theme=dark] .colab-df-convert {\n",
              "      background-color: #3B4455;\n",
              "      fill: #D2E3FC;\n",
              "    }\n",
              "\n",
              "    [theme=dark] .colab-df-convert:hover {\n",
              "      background-color: #434B5C;\n",
              "      box-shadow: 0px 1px 3px 1px rgba(0, 0, 0, 0.15);\n",
              "      filter: drop-shadow(0px 1px 2px rgba(0, 0, 0, 0.3));\n",
              "      fill: #FFFFFF;\n",
              "    }\n",
              "  </style>\n",
              "\n",
              "      <script>\n",
              "        const buttonEl =\n",
              "          document.querySelector('#df-c98cb48a-3439-4833-9b0c-fb9b6136eef1 button.colab-df-convert');\n",
              "        buttonEl.style.display =\n",
              "          google.colab.kernel.accessAllowed ? 'block' : 'none';\n",
              "\n",
              "        async function convertToInteractive(key) {\n",
              "          const element = document.querySelector('#df-c98cb48a-3439-4833-9b0c-fb9b6136eef1');\n",
              "          const dataTable =\n",
              "            await google.colab.kernel.invokeFunction('convertToInteractive',\n",
              "                                                     [key], {});\n",
              "          if (!dataTable) return;\n",
              "\n",
              "          const docLinkHtml = 'Like what you see? Visit the ' +\n",
              "            '<a target=\"_blank\" href=https://colab.research.google.com/notebooks/data_table.ipynb>data table notebook</a>'\n",
              "            + ' to learn more about interactive tables.';\n",
              "          element.innerHTML = '';\n",
              "          dataTable['output_type'] = 'display_data';\n",
              "          await google.colab.output.renderOutput(dataTable, element);\n",
              "          const docLink = document.createElement('div');\n",
              "          docLink.innerHTML = docLinkHtml;\n",
              "          element.appendChild(docLink);\n",
              "        }\n",
              "      </script>\n",
              "    </div>\n",
              "  </div>\n",
              "  "
            ]
          },
          "metadata": {},
          "execution_count": 19
        }
      ]
    },
    {
      "cell_type": "markdown",
      "source": [
        "# **Reducing The Recall With Random Undersampler**"
      ],
      "metadata": {
        "id": "xOBLLwp53rV3"
      }
    },
    {
      "cell_type": "code",
      "source": [
        "rus = RandomUnderSampler(random_state = 0)   #random state = 0 means each time we run the notebook we get the same train and test values\n",
        "                                             #rus is an object of class RandomUnderSampler\n",
        "X_rus,y_rus = rus.fit_resample(X,y)          #x_rus,y_rus will give the random undersampled x and y\n",
        "                                             #rus_fit fits the algorithm to your dataset and then transforms(resamples) your dataset with a new \n",
        "                                             #undersampled dataset."
      ],
      "metadata": {
        "id": "hULlwZOz30YM"
      },
      "execution_count": 20,
      "outputs": []
    },
    {
      "cell_type": "markdown",
      "source": [
        "* We have randomly removed observations so now we will have equal no of observations in class 0 and class1 ie.the corona result is positive and the corona result is negative class of the dataset.It randomly deletes examples in the majority class.This will balance the dataset.\n",
        "\n"
      ],
      "metadata": {
        "id": "e8tBCEI4UHaU"
      }
    },
    {
      "cell_type": "code",
      "source": [
        "X_train,X_test,y_train,y_test,model = build_model(X_rus,y_rus)\n",
        "y_pred = predict(X_test)\n",
        "metrics(y_test,y_pred)\n",
        "#classification_report = classification_report_func(y_test,y_pred, ['False','True']) #class 0 corresponds to False and class 1 corresponds to True\n",
        "#print(classification_report)\n",
        "plot_conf_matrix(y_test,y_pred)\n",
        "roc_curve(model,X_test,y_test)"
      ],
      "metadata": {
        "colab": {
          "base_uri": "https://localhost:8080/",
          "height": 752
        },
        "id": "lgplAm_oY6-7",
        "outputId": "7b6e0537-b1a9-4036-d258-e3ce101f2a58"
      },
      "execution_count": 21,
      "outputs": [
        {
          "output_type": "stream",
          "name": "stderr",
          "text": [
            "/usr/local/lib/python3.7/dist-packages/sklearn/ensemble/_gb.py:494: DataConversionWarning: A column-vector y was passed when a 1d array was expected. Please change the shape of y to (n_samples, ), for example using ravel().\n",
            "  y = column_or_1d(y, warn=True)\n"
          ]
        },
        {
          "output_type": "stream",
          "name": "stdout",
          "text": [
            "accuracy score is 82.59%\n",
            "recall score is 69.91%\n",
            "prec score is 94.23%\n",
            "Confusion matrix:\n",
            " [[805  37]\n",
            " [260 604]]\n"
          ]
        },
        {
          "output_type": "display_data",
          "data": {
            "text/plain": [
              "<Figure size 432x288 with 2 Axes>"
            ],
            "image/png": "[encoded data removed]"
          },
          "metadata": {
            "needs_background": "light"
          }
        },
        {
          "output_type": "stream",
          "name": "stderr",
          "text": [
            "/usr/local/lib/python3.7/dist-packages/sklearn/utils/deprecation.py:87: FutureWarning: Function plot_roc_curve is deprecated; Function :func:`plot_roc_curve` is deprecated in 1.0 and will be removed in 1.2. Use one of the class methods: :meth:`sklearn.metric.RocCurveDisplay.from_predictions` or :meth:`sklearn.metric.RocCurveDisplay.from_estimator`.\n",
            "  warnings.warn(msg, category=FutureWarning)\n"
          ]
        },
        {
          "output_type": "execute_result",
          "data": {
            "text/plain": [
              "<function sklearn.metrics._plot.roc_curve.plot_roc_curve>"
            ]
          },
          "metadata": {},
          "execution_count": 21
        },
        {
          "output_type": "display_data",
          "data": {
            "text/plain": [
              "<Figure size 432x288 with 1 Axes>"
            ],
            "image/png": "[encoded data removed]"
          },
          "metadata": {
            "needs_background": "light"
          }
        }
      ]
    },
    {
      "cell_type": "code",
      "source": [
        "print(X.shape)"
      ],
      "metadata": {
        "colab": {
          "base_uri": "https://localhost:8080/"
        },
        "id": "-1Cr5AccXabr",
        "outputId": "b0446af4-2f97-4e26-8011-7589c6480c27"
      },
      "execution_count": 22,
      "outputs": [
        {
          "output_type": "stream",
          "name": "stdout",
          "text": [
            "(143502, 8)\n"
          ]
        }
      ]
    },
    {
      "cell_type": "code",
      "source": [
        "print(X_rus.shape)"
      ],
      "metadata": {
        "colab": {
          "base_uri": "https://localhost:8080/"
        },
        "id": "zD5LmDdBawvp",
        "outputId": "4ab6fcb7-1fec-43e9-8445-ca2bcdb344cc"
      },
      "execution_count": 23,
      "outputs": [
        {
          "output_type": "stream",
          "name": "stdout",
          "text": [
            "(8528, 8)\n"
          ]
        }
      ]
    },
    {
      "cell_type": "markdown",
      "source": [
        "X_rus.shape gives 8k rows as compared to previous dataset with 140k rows- undersampling majority class\n"
      ],
      "metadata": {
        "id": "_JBvwf9hXOL9"
      }
    },
    {
      "cell_type": "markdown",
      "source": [
        "# **Reducing Recall With Cluster Centroid**"
      ],
      "metadata": {
        "id": "_6UDrjzuj9vS"
      }
    },
    {
      "cell_type": "code",
      "source": [
        "from imblearn.under_sampling import ClusterCentroids\n",
        "cc = ClusterCentroids()   #cc is an object of class clustercetroid\n",
        "X_clus , y_clus = cc.fit_resample(X[0:40000],y[0:40000]) #notebook may crash if we consider the entire dataset so just take the first 40k rows"
      ],
      "metadata": {
        "colab": {
          "base_uri": "https://localhost:8080/"
        },
        "id": "RdwnhQw7kEIV",
        "outputId": "66c18de6-7248-4288-e71f-b72eed54b5e3"
      },
      "execution_count": 24,
      "outputs": [
        {
          "output_type": "stream",
          "name": "stderr",
          "text": [
            "/usr/local/lib/python3.7/dist-packages/imblearn/under_sampling/_prototype_generation/_cluster_centroids.py:172: ConvergenceWarning: Number of distinct clusters (43) found smaller than n_clusters (1113). Possibly due to duplicate points in X.\n",
            "  self.estimator_.fit(_safe_indexing(X, target_class_indices))\n"
          ]
        }
      ]
    },
    {
      "cell_type": "markdown",
      "source": [
        "Cluster analysis is unsupervised learning algo. We form clusters of similiar samples. Then we remove all the similiar samples from the dataset."
      ],
      "metadata": {
        "id": "Ipyu7ZBtmDz7"
      }
    },
    {
      "cell_type": "code",
      "source": [
        "X_train,X_test,y_train,y_test,model = build_model(X_clus,y_clus)\n",
        "y_pred = predict(X_test)\n",
        "metrics(y_test,y_pred)\n",
        "#classification_report = classification_report_func(y_test,y_pred, ['False','True']) #class 0 corresponds to False and class 1 corresponds to True\n",
        "#print(classification_report)\n",
        "plot_conf_matrix(y_test,y_pred)\n",
        "roc_curve(model,X_test,y_test)"
      ],
      "metadata": {
        "colab": {
          "base_uri": "https://localhost:8080/",
          "height": 752
        },
        "id": "-LuXRI74lpDP",
        "outputId": "f22d7fdb-0e32-4451-f982-24619cb64895"
      },
      "execution_count": 25,
      "outputs": [
        {
          "output_type": "stream",
          "name": "stderr",
          "text": [
            "/usr/local/lib/python3.7/dist-packages/sklearn/ensemble/_gb.py:494: DataConversionWarning: A column-vector y was passed when a 1d array was expected. Please change the shape of y to (n_samples, ), for example using ravel().\n",
            "  y = column_or_1d(y, warn=True)\n"
          ]
        },
        {
          "output_type": "stream",
          "name": "stdout",
          "text": [
            "accuracy score is 92.15%\n",
            "recall score is 87.12%\n",
            "prec score is 97.60%\n",
            "Confusion matrix:\n",
            " [[208   5]\n",
            " [ 30 203]]\n"
          ]
        },
        {
          "output_type": "display_data",
          "data": {
            "text/plain": [
              "<Figure size 432x288 with 2 Axes>"
            ],
            "image/png": "[encoded data removed]"
          },
          "metadata": {
            "needs_background": "light"
          }
        },
        {
          "output_type": "stream",
          "name": "stderr",
          "text": [
            "/usr/local/lib/python3.7/dist-packages/sklearn/utils/deprecation.py:87: FutureWarning: Function plot_roc_curve is deprecated; Function :func:`plot_roc_curve` is deprecated in 1.0 and will be removed in 1.2. Use one of the class methods: :meth:`sklearn.metric.RocCurveDisplay.from_predictions` or :meth:`sklearn.metric.RocCurveDisplay.from_estimator`.\n",
            "  warnings.warn(msg, category=FutureWarning)\n"
          ]
        },
        {
          "output_type": "execute_result",
          "data": {
            "text/plain": [
              "<function sklearn.metrics._plot.roc_curve.plot_roc_curve>"
            ]
          },
          "metadata": {},
          "execution_count": 25
        },
        {
          "output_type": "display_data",
          "data": {
            "text/plain": [
              "<Figure size 432x288 with 1 Axes>"
            ],
            "image/png": "[encoded data removed]"
          },
          "metadata": {
            "needs_background": "light"
          }
        }
      ]
    },
    {
      "cell_type": "code",
      "source": [
        "print(X.shape)"
      ],
      "metadata": {
        "colab": {
          "base_uri": "https://localhost:8080/"
        },
        "id": "UWsVr-Oqtx73",
        "outputId": "2eb5bd4d-e047-4e47-fd6c-05de57590886"
      },
      "execution_count": 26,
      "outputs": [
        {
          "output_type": "stream",
          "name": "stdout",
          "text": [
            "(143502, 8)\n"
          ]
        }
      ]
    },
    {
      "cell_type": "code",
      "source": [
        "print(X_clus.shape)"
      ],
      "metadata": {
        "colab": {
          "base_uri": "https://localhost:8080/"
        },
        "id": "ZWftAy7jt0Qu",
        "outputId": "1b6d1a79-35fc-4bf3-dc97-b0b756463422"
      },
      "execution_count": 27,
      "outputs": [
        {
          "output_type": "stream",
          "name": "stdout",
          "text": [
            "(2226, 8)\n"
          ]
        }
      ]
    },
    {
      "cell_type": "markdown",
      "source": [
        "# **Reducing Recall With SMOTE**"
      ],
      "metadata": {
        "id": "HQXnTo4hsCJG"
      }
    },
    {
      "cell_type": "code",
      "source": [
        "from imblearn.over_sampling import SMOTE\n",
        "smo = SMOTE()   #smo is an object of class SMOTE\n",
        "X_smo , y_smo = smo.fit_resample(X,y)"
      ],
      "metadata": {
        "id": "FZuPd9E8sNeq"
      },
      "execution_count": 28,
      "outputs": []
    },
    {
      "cell_type": "markdown",
      "source": [
        "One approach to addressing imbalanced datasets is to oversample the minority class. The simplest approach involves duplicating examples in the minority class, although these examples don’t add any new information to the model.An improvement on duplicating examples from the minority class is to synthesize new examples from the minority class."
      ],
      "metadata": {
        "id": "TYb9jZYStBqI"
      }
    },
    {
      "cell_type": "code",
      "source": [
        "X_train,X_test,y_train,y_test,model = build_model(X_smo,y_smo)\n",
        "y_pred = predict(X_test)\n",
        "metrics(y_test,y_pred)\n",
        "#classification_report = classification_report_func(y_test,y_pred, ['False','True']) #class 0 corresponds to False and class 1 corresponds to True\n",
        "#print(classification_report)\n",
        "plot_conf_matrix(y_test,y_pred)\n",
        "roc_curve(model,X_test,y_test)"
      ],
      "metadata": {
        "colab": {
          "base_uri": "https://localhost:8080/",
          "height": 752
        },
        "id": "ggeZX2NUtBFh",
        "outputId": "12d2f9be-4033-4813-dfb1-78a5175e4626"
      },
      "execution_count": 29,
      "outputs": [
        {
          "output_type": "stream",
          "name": "stderr",
          "text": [
            "/usr/local/lib/python3.7/dist-packages/sklearn/ensemble/_gb.py:494: DataConversionWarning: A column-vector y was passed when a 1d array was expected. Please change the shape of y to (n_samples, ), for example using ravel().\n",
            "  y = column_or_1d(y, warn=True)\n"
          ]
        },
        {
          "output_type": "stream",
          "name": "stdout",
          "text": [
            "accuracy score is 83.80%\n",
            "recall score is 71.27%\n",
            "prec score is 95.14%\n",
            "Confusion matrix:\n",
            " [[26817  1015]\n",
            " [ 8006 19858]]\n"
          ]
        },
        {
          "output_type": "display_data",
          "data": {
            "text/plain": [
              "<Figure size 432x288 with 2 Axes>"
            ],
            "image/png": "[encoded data removed]"
          },
          "metadata": {
            "needs_background": "light"
          }
        },
        {
          "output_type": "stream",
          "name": "stderr",
          "text": [
            "/usr/local/lib/python3.7/dist-packages/sklearn/utils/deprecation.py:87: FutureWarning: Function plot_roc_curve is deprecated; Function :func:`plot_roc_curve` is deprecated in 1.0 and will be removed in 1.2. Use one of the class methods: :meth:`sklearn.metric.RocCurveDisplay.from_predictions` or :meth:`sklearn.metric.RocCurveDisplay.from_estimator`.\n",
            "  warnings.warn(msg, category=FutureWarning)\n"
          ]
        },
        {
          "output_type": "execute_result",
          "data": {
            "text/plain": [
              "<function sklearn.metrics._plot.roc_curve.plot_roc_curve>"
            ]
          },
          "metadata": {},
          "execution_count": 29
        },
        {
          "output_type": "display_data",
          "data": {
            "text/plain": [
              "<Figure size 432x288 with 1 Axes>"
            ],
            "image/png": "[encoded data removed]"
          },
          "metadata": {
            "needs_background": "light"
          }
        }
      ]
    },
    {
      "cell_type": "code",
      "source": [
        "print(X.shape)"
      ],
      "metadata": {
        "colab": {
          "base_uri": "https://localhost:8080/"
        },
        "id": "iF26tO5Yt9ja",
        "outputId": "b78779ec-1a1a-4831-a443-55eaf370579b"
      },
      "execution_count": 30,
      "outputs": [
        {
          "output_type": "stream",
          "name": "stdout",
          "text": [
            "(143502, 8)\n"
          ]
        }
      ]
    },
    {
      "cell_type": "code",
      "source": [
        "print(X_smo.shape)"
      ],
      "metadata": {
        "colab": {
          "base_uri": "https://localhost:8080/"
        },
        "id": "zWnkYYTbvOvM",
        "outputId": "2d0c36f7-1204-4c62-8267-e45c16d512ce"
      },
      "execution_count": 31,
      "outputs": [
        {
          "output_type": "stream",
          "name": "stdout",
          "text": [
            "(278476, 8)\n"
          ]
        }
      ]
    },
    {
      "cell_type": "markdown",
      "source": [
        "# **Taking User Input Data**"
      ],
      "metadata": {
        "id": "jO-C_vRJo7HO"
      }
    },
    {
      "cell_type": "code",
      "source": [
        "print(\"Enter your own data to test the model:\")\n",
        "cough = int(input(\"Enter cough:\"))\n",
        "fever = int(input(\"Enter fever:\"))\n",
        "sore_throat = int(input(\"Enter sore throat:\"))\n",
        "shortness_of_breath = int(input(\"Enter shortness of breath :\"))\n",
        "head_ache = int(input(\"Enter head ache:\"))\n",
        "age_60_and_above = int(input(\"Enter age above 60 or not:\"))\n",
        "gender = int(input(\"Enter gender:\"))\n",
        "contact_with_confirmed = int(input(\"Enter contact with confirmed:\"))\n",
        "userInput = [cough, fever, sore_throat, shortness_of_breath, head_ache, age_60_and_above, \n",
        "gender, contact_with_confirmed]\n",
        "\n",
        "\n"
      ],
      "metadata": {
        "colab": {
          "base_uri": "https://localhost:8080/"
        },
        "id": "5cX_CsoZWIXb",
        "outputId": "b83f0799-0a73-42e0-a1ee-01e744b98c50"
      },
      "execution_count": 36,
      "outputs": [
        {
          "name": "stdout",
          "output_type": "stream",
          "text": [
            "Enter your own data to test the model:\n",
            "Enter cough:1\n",
            "Enter fever:1\n",
            "Enter sore throat:1\n",
            "Enter shortness of breath :1\n",
            "Enter head ache:1\n",
            "Enter age above 60 or not:1\n",
            "Enter gender:1\n",
            "Enter contact with confirmed:1\n"
          ]
        }
      ]
    },
    {
      "cell_type": "code",
      "source": [
        "result = model.predict([userInput])[0]\n",
        "#because the model expects multiple inputs (2D array) and returns the prediction for each element (list of observations)"
      ],
      "metadata": {
        "colab": {
          "base_uri": "https://localhost:8080/"
        },
        "id": "nqtYSIc7aP1h",
        "outputId": "a82a8315-9f21-4d2d-c046-f37646baec80"
      },
      "execution_count": 38,
      "outputs": [
        {
          "output_type": "stream",
          "name": "stderr",
          "text": [
            "/usr/local/lib/python3.7/dist-packages/sklearn/base.py:451: UserWarning: X does not have valid feature names, but GradientBoostingClassifier was fitted with feature names\n",
            "  \"X does not have valid feature names, but\"\n"
          ]
        }
      ]
    },
    {
      "cell_type": "code",
      "source": [
        "print(result)"
      ],
      "metadata": {
        "colab": {
          "base_uri": "https://localhost:8080/"
        },
        "id": "T2KefaUfbQBG",
        "outputId": "fdcb563a-abc6-4979-f967-fbf685498487"
      },
      "execution_count": 39,
      "outputs": [
        {
          "output_type": "stream",
          "name": "stdout",
          "text": [
            "1\n"
          ]
        }
      ]
    }
  ]
}